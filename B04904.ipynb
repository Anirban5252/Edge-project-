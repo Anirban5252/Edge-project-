{
  "nbformat": 4,
  "nbformat_minor": 0,
  "metadata": {
    "colab": {
      "provenance": []
    },
    "kernelspec": {
      "name": "python3",
      "display_name": "Python 3"
    },
    "language_info": {
      "name": "python"
    }
  },
  "cells": [
    {
      "cell_type": "code",
      "source": [
        "# Answer to question number : 4\n",
        "\n",
        "import numpy as np\n",
        "import pandas as pd\n",
        "from sklearn.datasets import load_iris\n",
        "\n",
        "# Task 1:\n",
        "iris = load_iris()\n",
        "sepal_length_np = iris.data[:, 0]  # Select sepal length column\n",
        "sepal_width_np = iris.data[:, 1]  # Select sepal width column\n",
        "\n",
        "# Task 2:\n",
        "iris_df = pd.DataFrame(data=iris.data, columns=iris.feature_names)\n",
        "iris_df['species'] = pd.Categorical.from_codes(iris.target, iris.target_names)\n",
        "\n",
        "# 1. Calculate mean, median, and standard deviation\n",
        "print(\"Descriptive Statistics:\")\n",
        "print(iris_df.describe())\n",
        "\n",
        "# 2. Group by species and calculate average sepal and petal length\n",
        "species_avg = iris_df.groupby('species')[['sepal length (cm)', 'petal length (cm)']].mean()\n",
        "print(\"\\nAverage Sepal and Petal Length by Species:\")\n",
        "print(species_avg)\n",
        "\n",
        "# 3. Filter by sepal length\n",
        "filtered_df = iris_df[iris_df['sepal length (cm)'] > 5.0]\n",
        "print(\"\\nFlowers with Sepal Length > 5.0 cm:\")\n",
        "print(filtered_df)"
      ],
      "metadata": {
        "colab": {
          "base_uri": "https://localhost:8080/"
        },
        "id": "RTixKTPUuTkR",
        "outputId": "f061de29-cbfb-411e-e6a2-19f5b2f7d062"
      },
      "execution_count": 20,
      "outputs": [
        {
          "output_type": "stream",
          "name": "stdout",
          "text": [
            "Descriptive Statistics:\n",
            "       sepal length (cm)  sepal width (cm)  petal length (cm)  \\\n",
            "count         150.000000        150.000000         150.000000   \n",
            "mean            5.843333          3.057333           3.758000   \n",
            "std             0.828066          0.435866           1.765298   \n",
            "min             4.300000          2.000000           1.000000   \n",
            "25%             5.100000          2.800000           1.600000   \n",
            "50%             5.800000          3.000000           4.350000   \n",
            "75%             6.400000          3.300000           5.100000   \n",
            "max             7.900000          4.400000           6.900000   \n",
            "\n",
            "       petal width (cm)  \n",
            "count        150.000000  \n",
            "mean           1.199333  \n",
            "std            0.762238  \n",
            "min            0.100000  \n",
            "25%            0.300000  \n",
            "50%            1.300000  \n",
            "75%            1.800000  \n",
            "max            2.500000  \n",
            "\n",
            "Average Sepal and Petal Length by Species:\n",
            "            sepal length (cm)  petal length (cm)\n",
            "species                                         \n",
            "setosa                  5.006              1.462\n",
            "versicolor              5.936              4.260\n",
            "virginica               6.588              5.552\n",
            "\n",
            "Flowers with Sepal Length > 5.0 cm:\n",
            "     sepal length (cm)  sepal width (cm)  petal length (cm)  petal width (cm)  \\\n",
            "0                  5.1               3.5                1.4               0.2   \n",
            "5                  5.4               3.9                1.7               0.4   \n",
            "10                 5.4               3.7                1.5               0.2   \n",
            "14                 5.8               4.0                1.2               0.2   \n",
            "15                 5.7               4.4                1.5               0.4   \n",
            "..                 ...               ...                ...               ...   \n",
            "145                6.7               3.0                5.2               2.3   \n",
            "146                6.3               2.5                5.0               1.9   \n",
            "147                6.5               3.0                5.2               2.0   \n",
            "148                6.2               3.4                5.4               2.3   \n",
            "149                5.9               3.0                5.1               1.8   \n",
            "\n",
            "       species  \n",
            "0       setosa  \n",
            "5       setosa  \n",
            "10      setosa  \n",
            "14      setosa  \n",
            "15      setosa  \n",
            "..         ...  \n",
            "145  virginica  \n",
            "146  virginica  \n",
            "147  virginica  \n",
            "148  virginica  \n",
            "149  virginica  \n",
            "\n",
            "[118 rows x 5 columns]\n"
          ]
        },
        {
          "output_type": "stream",
          "name": "stderr",
          "text": [
            "<ipython-input-20-7e188e8a8e33>:19: FutureWarning: The default of observed=False is deprecated and will be changed to True in a future version of pandas. Pass observed=False to retain current behavior or observed=True to adopt the future default and silence this warning.\n",
            "  species_avg = iris_df.groupby('species')[['sepal length (cm)', 'petal length (cm)']].mean()\n"
          ]
        }
      ]
    },
    {
      "cell_type": "code",
      "source": [
        "# Answer to the question number 3\n",
        "\n",
        "import numpy as np\n",
        "import csv\n",
        "import pickle\n",
        "\n",
        "# Task 1:\n",
        "my_list = ['apple', 'banana', 'cherry', 'date', 'elderberry']\n",
        "\n",
        "\n",
        "with open('my_list.txt', 'w') as file:\n",
        "    for item in my_list:\n",
        "        file.write(f\"{item}\\n\")\n",
        "\n",
        "print(\"List saved to my_list.txt.\")\n",
        "\n",
        "\n",
        "with open('my_list.csv', 'w', newline='') as csvfile:\n",
        "    writer = csv.writer(csvfile)\n",
        "    for item in my_list:\n",
        "        writer.writerow([item])\n",
        "\n",
        "print(\"List saved to my_list.csv.\")\n",
        "\n",
        "my_array = np.array([[1, 2, 3], [4, 5, 6], [7, 8, 9]])\n",
        "\n",
        "np.savetxt('my_array.csv', my_array, delimiter=',', fmt='%d')\n",
        "read_array = np.loadtxt('my_array.csv', delimiter=',')\n",
        "\n",
        "print(\"2D array saved to my_array.csv and read back:\")\n",
        "print(read_array)\n",
        "\n",
        "\n",
        "with open('my_array.pkl', 'wb') as pickle_file:\n",
        "    pickle.dump(my_array, pickle_file)\n",
        "\n",
        "with open('my_array.pkl', 'rb') as pickle_file:\n",
        "    loaded_array = pickle.load(pickle_file)\n",
        "\n",
        "print(\"Array saved to my_array.pkl and loaded back:\")\n",
        "print(loaded_array)\n"
      ],
      "metadata": {
        "colab": {
          "base_uri": "https://localhost:8080/"
        },
        "id": "p6xOhuVQrvAg",
        "outputId": "b1779d71-9313-435a-9dfa-000eb1fdbe8b"
      },
      "execution_count": 19,
      "outputs": [
        {
          "output_type": "stream",
          "name": "stdout",
          "text": [
            "List saved to my_list.txt.\n",
            "List saved to my_list.csv.\n",
            "2D array saved to my_array.csv and read back:\n",
            "[[1. 2. 3.]\n",
            " [4. 5. 6.]\n",
            " [7. 8. 9.]]\n",
            "Array saved to my_array.pkl and loaded back:\n",
            "[[1 2 3]\n",
            " [4 5 6]\n",
            " [7 8 9]]\n"
          ]
        }
      ]
    },
    {
      "cell_type": "code",
      "source": [
        "#answer to the question number:2\n",
        "\n",
        "def my_triangle(b, h):\n",
        "    # Calculate the area of the triangle\n",
        "    area = 0.5 * b * h\n",
        "    return area\n",
        "\n",
        "\n",
        "base = float(input(\"Enter the base of the triangle: \"))\n",
        "height = float(input(\"Enter the height of the triangle: \"))\n",
        "print(my_triangle(base, height))  # This will output 25.0\n",
        "\n"
      ],
      "metadata": {
        "colab": {
          "base_uri": "https://localhost:8080/"
        },
        "id": "jBnbTxM0p6qS",
        "outputId": "4b4d6174-adc5-4d86-9319-e4dd44c998af"
      },
      "execution_count": 16,
      "outputs": [
        {
          "output_type": "stream",
          "name": "stdout",
          "text": [
            "Enter the base of the triangle: 1\n",
            "Enter the height of the triangle: 1\n",
            "0.5\n"
          ]
        }
      ]
    },
    {
      "cell_type": "code",
      "source": [
        "#answer to the question no:1\n",
        "\n",
        "def total_sales(store_data):\n",
        "\n",
        "    total_sales_per_product = {}\n",
        "    for store_name, products in store_data.items():\n",
        "        for product_name, quantity in products.items():\n",
        "            if product_name in total_sales_per_product:\n",
        "                total_sales_per_product[product_name] += quantity\n",
        "            else:\n",
        "                total_sales_per_product[product_name] = quantity\n",
        "    return total_sales_per_product\n",
        "\n",
        "def store_with_max_sales(store_data):\n",
        "    max_sales = 0\n",
        "    max_sales_store = None\n",
        "    for store_name, products in store_data.items():\n",
        "        total_sales_store = sum(products.values())\n",
        "        if total_sales_store > max_sales:\n",
        "            max_sales = total_sales_store\n",
        "            max_sales_store = store_name\n",
        "    return max_sales_store\n",
        "\n",
        "# Example usage:\n",
        "store_data = {\n",
        "    \"Store A\": {\"Product 1\": 10, \"Product 2\": 15, \"Product 3\": 8},\n",
        "    \"Store B\": {\"Product 1\": 12, \"Product 2\": 7, \"Product 3\": 11},\n",
        "    \"Store C\": {\"Product 1\": 5, \"Product 2\": 18, \"Product 3\": 6}\n",
        "}\n",
        "\n",
        "total_sales_per_product = total_sales(store_data)\n",
        "print(\"Total sales per product:\", total_sales_per_product)\n",
        "\n",
        "store_with_max_sales = store_with_max_sales(store_data)\n",
        "print(\"Store with maximum sales:\", store_with_max_sales)"
      ],
      "metadata": {
        "colab": {
          "base_uri": "https://localhost:8080/"
        },
        "id": "zpnHqFZKpsDe",
        "outputId": "43122d3c-221f-4489-93dc-781d1b9284c0"
      },
      "execution_count": 23,
      "outputs": [
        {
          "output_type": "stream",
          "name": "stdout",
          "text": [
            "Total sales per product: {'Product 1': 27, 'Product 2': 40, 'Product 3': 25}\n",
            "Store with maximum sales: Store A\n"
          ]
        }
      ]
    }
  ]
}